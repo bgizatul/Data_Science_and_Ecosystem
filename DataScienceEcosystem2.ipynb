{
 "cells": [
  {
   "cell_type": "markdown",
   "id": "8b678429",
   "metadata": {},
   "source": [
    "# Data Science and Ecosystem"
   ]
  },
  {
   "cell_type": "markdown",
   "id": "0417b84b",
   "metadata": {},
   "source": [
    "## Author\n",
    "name"
   ]
  },
  {
   "cell_type": "markdown",
   "id": "296151d8",
   "metadata": {},
   "source": [
    "In this section, Data Science Tools and Ecosystem are summarized"
   ]
  },
  {
   "cell_type": "markdown",
   "id": "585c7c06",
   "metadata": {},
   "source": [
    "**Objectives:**\n",
    "* List popular langauges used by Data Science\n",
    "* List commonly used libraries used by data scientists\n",
    "* List several Data Science tools\n",
    "* Create a code to show the exmaple of multiplication and further addition\n",
    "* Create a code of example of converting minutes to hours"
   ]
  },
  {
   "cell_type": "markdown",
   "id": "a0cd20b8",
   "metadata": {},
   "source": [
    "Some of the popular languages that Data Science use are:\n",
    "1. Python\n",
    "2. R\n",
    "3. SQL"
   ]
  },
  {
   "cell_type": "markdown",
   "id": "74181637",
   "metadata": {},
   "source": [
    "Some of the commonly used libraries used by Data Science include:\n",
    "1. NumPy\n",
    "2. Pandas\n",
    "3. TensorFlow\n",
    "4. Matplotlib\n",
    "5. Keras\n",
    "6. PyTorch"
   ]
  },
  {
   "cell_type": "markdown",
   "id": "1cba3bef",
   "metadata": {},
   "source": [
    "| Data Science Tools |\n",
    "|-------------------|\n",
    "| Jupyter notebook |\n",
    "| RS studio |\n",
    "| Spyder |"
   ]
  },
  {
   "cell_type": "markdown",
   "id": "ce2580d1",
   "metadata": {},
   "source": [
    "### Below are a few examples of evaluating arithmetic expressions in Python"
   ]
  },
  {
   "cell_type": "code",
   "execution_count": null,
   "id": "8a9f42c2",
   "metadata": {},
   "outputs": [],
   "source": [
    "# This is as simple arithmetic expression to multiply and then add integers\n",
    "(3*4)+5"
   ]
  },
  {
   "cell_type": "code",
   "execution_count": null,
   "id": "6cca0491",
   "metadata": {},
   "outputs": [],
   "source": [
    "# This code convert 200 minutes to hours by deviding by 60\n",
    "200/60"
   ]
  },
  {
   "cell_type": "code",
   "execution_count": null,
   "id": "f28b7c9d",
   "metadata": {},
   "outputs": [],
   "source": []
  },
  {
   "cell_type": "code",
   "execution_count": null,
   "id": "d5f645ce",
   "metadata": {},
   "outputs": [],
   "source": []
  }
 ],
 "metadata": {
  "kernelspec": {
   "display_name": "Python 3 (ipykernel)",
   "language": "python",
   "name": "python3"
  },
  "language_info": {
   "codemirror_mode": {
    "name": "ipython",
    "version": 3
   },
   "file_extension": ".py",
   "mimetype": "text/x-python",
   "name": "python",
   "nbconvert_exporter": "python",
   "pygments_lexer": "ipython3",
   "version": "3.11.4"
  }
 },
 "nbformat": 4,
 "nbformat_minor": 5
}
